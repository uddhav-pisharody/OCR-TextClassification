{
 "cells": [
  {
   "cell_type": "code",
   "execution_count": 19,
   "id": "fc2c0ef2",
   "metadata": {},
   "outputs": [],
   "source": [
    "import cv2\n",
    "from PIL import Image\n",
    "import pytesseract\n",
    "import re"
   ]
  },
  {
   "cell_type": "code",
   "execution_count": 20,
   "id": "00e92a7a",
   "metadata": {},
   "outputs": [],
   "source": [
    "img = cv2.imread('IdCard- Uddhav Pisharody(210310279560)-2-1.jpg')\n",
    "cv2.imshow('IdCard', img)\n",
    "cv2.waitKey(0)\n",
    "cv2.destroyAllWindows()"
   ]
  },
  {
   "cell_type": "code",
   "execution_count": 21,
   "id": "f11b8e30",
   "metadata": {},
   "outputs": [
    {
     "name": "stdout",
     "output_type": "stream",
     "text": [
      "\\)aame WE\n",
      "Student Sign\n",
      "\n",
      "Indian Institute of Information Technology Ranchi\n",
      "(An Institute of National Importance Under MHRD, Govt.of India)\n",
      "Ranchi-834010,Jharkhand\n",
      "\n",
      "Ph.(O). : +91-651-2260092\n",
      "\n",
      "STUDENT ID CARD\n",
      "Roll No : 2021UG1007\n",
      "Name : UDDHAV PISHARODY\n",
      "Programme: Bachelor of Technology\n",
      "Department : Computer Science and Engineering\n",
      "\n",
      "Valid Up to 30/07/2025\n",
      "Signature of Issuing Authority\n",
      "Faculty In Charge(Student Affairs)\n",
      "\n"
     ]
    }
   ],
   "source": [
    "text = pytesseract.image_to_string(img)\n",
    "print(text)"
   ]
  },
  {
   "cell_type": "code",
   "execution_count": 22,
   "id": "12661de8",
   "metadata": {},
   "outputs": [
    {
     "name": "stdout",
     "output_type": "stream",
     "text": [
      "Roll No: 2021UG1007\n",
      "Name: UDDHAV PISHARODY\n",
      "Programme: Bachelor of Technology\n",
      "Department: Computer Science and Engineering\n"
     ]
    }
   ],
   "source": [
    "pattern1 = re.compile(r'\\s*Roll\\s*No\\s*:\\s*(\\d{4}[A-Z]{2}\\d{4})')\n",
    "pattern2 = re.compile(r'\\s*Name\\s*:\\s*(\\w+\\s+\\w+)\\s*')\n",
    "pattern3 = re.compile(r'\\s*.+\\s*Programme\\s*:\\s*(\\w+\\s+\\w+\\s+\\w+)')\n",
    "pattern4 = re.compile(r'\\s*.+\\s*Department\\s*:\\s*(\\w+\\s+\\w+\\s+\\w+\\s+\\w+)')\n",
    "\n",
    "matches1 = pattern1.finditer(text)\n",
    "matches2 = pattern2.finditer(text)\n",
    "matches3 = pattern3.finditer(text)\n",
    "matches4 = pattern4.finditer(text)\n",
    "string = \"\"\n",
    "\n",
    "for match in matches1:\n",
    "    string += f\"Roll No: {match.group(1)}\\n\"\n",
    "    print(f\"Roll No: {match.group(1)}\")\n",
    "\n",
    "for match in matches2:\n",
    "    string += f\"Name: {match.group(1)}\\n\"\n",
    "    print(f\"Name: {match.group(1)}\")\n",
    "\n",
    "for match in matches3:\n",
    "    string += f\"Programme: {match.group(1)}\\n\"\n",
    "    print(f\"Programme: {match.group(1)}\")\n",
    "    \n",
    "for match in matches4:\n",
    "    string += f\"Department: {match.group(1)}\\n\"\n",
    "    print(f\"Department: {match.group(1)}\")\n"
   ]
  },
  {
   "cell_type": "code",
   "execution_count": 23,
   "id": "475fd6e3",
   "metadata": {},
   "outputs": [
    {
     "name": "stdout",
     "output_type": "stream",
     "text": [
      "Roll No: 2021UG1007\n",
      "Name: UDDHAV PISHARODY\n",
      "Programme: Bachelor of Technology\n",
      "Department: Computer Science and Engineering\n",
      "\n"
     ]
    }
   ],
   "source": [
    "print(string)"
   ]
  },
  {
   "cell_type": "code",
   "execution_count": 24,
   "id": "fe2cbb2d",
   "metadata": {},
   "outputs": [],
   "source": [
    "string_list = string.splitlines()"
   ]
  },
  {
   "cell_type": "code",
   "execution_count": 25,
   "id": "e393738b",
   "metadata": {},
   "outputs": [],
   "source": [
    "string_list1 = string_list[0].split(':')\n",
    "string_list2 = string_list[1].split(':')\n",
    "string_list3 = string_list[2].split(':')\n",
    "string_list4 = string_list[3].split(':')"
   ]
  },
  {
   "cell_type": "code",
   "execution_count": 26,
   "id": "671fc007",
   "metadata": {},
   "outputs": [
    {
     "data": {
      "text/plain": [
       "['Roll No', ' 2021UG1007']"
      ]
     },
     "execution_count": 26,
     "metadata": {},
     "output_type": "execute_result"
    }
   ],
   "source": [
    "string_list1"
   ]
  },
  {
   "cell_type": "code",
   "execution_count": 27,
   "id": "cd410cf4",
   "metadata": {},
   "outputs": [],
   "source": [
    "string_l_head = []\n",
    "for string_list in [string_list1, string_list2, string_list3, string_list4]:\n",
    "    # Append the contents of the string list to the empty list\n",
    "    for i in range(len(string_list)-1):\n",
    "        string_l_head.append(string_list[i])"
   ]
  },
  {
   "cell_type": "code",
   "execution_count": 28,
   "id": "bf9f4f58",
   "metadata": {},
   "outputs": [],
   "source": [
    "string_t_head = tuple(string_l_head)"
   ]
  },
  {
   "cell_type": "code",
   "execution_count": 29,
   "id": "9da71ff4",
   "metadata": {},
   "outputs": [],
   "source": [
    "string_l_val = []\n",
    "for string_list in [string_list1, string_list2, string_list3, string_list4]:\n",
    "    # Append the contents of the string list to the empty list\n",
    "    for i in range(1, 2):\n",
    "        string_l_val.append(string_list[i])"
   ]
  },
  {
   "cell_type": "code",
   "execution_count": 30,
   "id": "9b8096b0",
   "metadata": {},
   "outputs": [],
   "source": [
    "string_t_val = tuple(string_l_val)"
   ]
  },
  {
   "cell_type": "code",
   "execution_count": 31,
   "id": "c15ed5ba",
   "metadata": {},
   "outputs": [],
   "source": [
    "import openpyxl"
   ]
  },
  {
   "cell_type": "code",
   "execution_count": 32,
   "id": "97426fef",
   "metadata": {},
   "outputs": [],
   "source": [
    "wb = openpyxl.Workbook()\n",
    "ws = wb.active"
   ]
  },
  {
   "cell_type": "code",
   "execution_count": 33,
   "id": "266a1dee",
   "metadata": {},
   "outputs": [],
   "source": [
    "data = (string_t_head, string_t_val)"
   ]
  },
  {
   "cell_type": "code",
   "execution_count": 34,
   "id": "8f8681b7",
   "metadata": {},
   "outputs": [],
   "source": [
    "for i in data:\n",
    "    ws.append(i)"
   ]
  },
  {
   "cell_type": "code",
   "execution_count": 35,
   "id": "44737e0a",
   "metadata": {},
   "outputs": [],
   "source": [
    "wb.save('output.xlsx')"
   ]
  },
  {
   "cell_type": "code",
   "execution_count": 36,
   "id": "457d8bac",
   "metadata": {},
   "outputs": [
    {
     "name": "stdout",
     "output_type": "stream",
     "text": [
      "C:\\Users\\Uddhav Pisharody\\Machine Learning\\OCR-Project\\OCR-ImageToText and RE.ipynb\n"
     ]
    }
   ],
   "source": [
    "import os\n",
    "\n",
    "# Get the current working directory\n",
    "cwd = os.getcwd()\n",
    "\n",
    "# Join the current working directory with the filename\n",
    "filename = \"OCR-ImageToText and RE.ipynb\"\n",
    "file_path = os.path.join(cwd, filename)\n",
    "\n",
    "# Print the full path of the file\n",
    "print(file_path)\n"
   ]
  },
  {
   "cell_type": "code",
   "execution_count": null,
   "id": "b335a468",
   "metadata": {},
   "outputs": [],
   "source": []
  }
 ],
 "metadata": {
  "kernelspec": {
   "display_name": "Python 3 (ipykernel)",
   "language": "python",
   "name": "python3"
  },
  "language_info": {
   "codemirror_mode": {
    "name": "ipython",
    "version": 3
   },
   "file_extension": ".py",
   "mimetype": "text/x-python",
   "name": "python",
   "nbconvert_exporter": "python",
   "pygments_lexer": "ipython3",
   "version": "3.10.4"
  }
 },
 "nbformat": 4,
 "nbformat_minor": 5
}
